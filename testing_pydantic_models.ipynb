{
 "cells": [
  {
   "cell_type": "code",
   "execution_count": 1,
   "metadata": {},
   "outputs": [
    {
     "ename": "ValidationError",
     "evalue": "1 validation error for SkillsModel\nchain_of_thought\n  String should have at least 1 character [type=string_too_short, input_value='', input_type=str]\n    For further information visit https://errors.pydantic.dev/2.5/v/string_too_short",
     "output_type": "error",
     "traceback": [
      "\u001b[0;31m---------------------------------------------------------------------------\u001b[0m",
      "\u001b[0;31mValidationError\u001b[0m                           Traceback (most recent call last)",
      "Cell \u001b[0;32mIn[1], line 38\u001b[0m\n\u001b[1;32m     22\u001b[0m     required_skills: \u001b[38;5;28mlist\u001b[39m[\u001b[38;5;28mstr\u001b[39m] \u001b[38;5;241m=\u001b[39m Field(\n\u001b[1;32m     23\u001b[0m         description\u001b[38;5;241m=\u001b[39m\u001b[38;5;124m\"\u001b[39m\u001b[38;5;124mUsing the explicit statements, state the required technical skills, tools, and software libraries for the role.\u001b[39m\u001b[38;5;124m\"\u001b[39m,\n\u001b[1;32m     24\u001b[0m         examples\u001b[38;5;241m=\u001b[39m[\n\u001b[0;32m   (...)\u001b[0m\n\u001b[1;32m     27\u001b[0m         ],\n\u001b[1;32m     28\u001b[0m     )\n\u001b[1;32m     29\u001b[0m     preferred_skills: \u001b[38;5;28mlist\u001b[39m[\u001b[38;5;28mstr\u001b[39m] \u001b[38;5;241m=\u001b[39m Field(\n\u001b[1;32m     30\u001b[0m         description\u001b[38;5;241m=\u001b[39m\u001b[38;5;124m\"\u001b[39m\u001b[38;5;124mUsing the explicit statements, state the Preferred/Desired technical skills, tools, and software libraries.\u001b[39m\u001b[38;5;124m\"\u001b[39m,\n\u001b[1;32m     31\u001b[0m         examples\u001b[38;5;241m=\u001b[39m[\n\u001b[0;32m   (...)\u001b[0m\n\u001b[1;32m     34\u001b[0m         ],\n\u001b[1;32m     35\u001b[0m     )\n\u001b[0;32m---> 38\u001b[0m job \u001b[38;5;241m=\u001b[39m \u001b[43mSkillsModel\u001b[49m\u001b[43m(\u001b[49m\u001b[43mchain_of_thought\u001b[49m\u001b[38;5;241;43m=\u001b[39;49m\u001b[38;5;124;43m\"\u001b[39;49m\u001b[38;5;124;43m\"\u001b[39;49m\u001b[43m,\u001b[49m\u001b[43m \u001b[49m\u001b[43mrequired_skills\u001b[49m\u001b[38;5;241;43m=\u001b[39;49m\u001b[43m[\u001b[49m\u001b[43m]\u001b[49m\u001b[43m,\u001b[49m\u001b[43m \u001b[49m\u001b[43mpreferred_skills\u001b[49m\u001b[38;5;241;43m=\u001b[39;49m\u001b[43m[\u001b[49m\u001b[43m]\u001b[49m\u001b[43m)\u001b[49m\n",
      "File \u001b[0;32m~/Documents/ai_repos/job_tag_extraction/env/lib/python3.11/site-packages/pydantic/main.py:164\u001b[0m, in \u001b[0;36mBaseModel.__init__\u001b[0;34m(__pydantic_self__, **data)\u001b[0m\n\u001b[1;32m    162\u001b[0m \u001b[38;5;66;03m# `__tracebackhide__` tells pytest and some other tools to omit this function from tracebacks\u001b[39;00m\n\u001b[1;32m    163\u001b[0m __tracebackhide__ \u001b[38;5;241m=\u001b[39m \u001b[38;5;28;01mTrue\u001b[39;00m\n\u001b[0;32m--> 164\u001b[0m \u001b[43m__pydantic_self__\u001b[49m\u001b[38;5;241;43m.\u001b[39;49m\u001b[43m__pydantic_validator__\u001b[49m\u001b[38;5;241;43m.\u001b[39;49m\u001b[43mvalidate_python\u001b[49m\u001b[43m(\u001b[49m\u001b[43mdata\u001b[49m\u001b[43m,\u001b[49m\u001b[43m \u001b[49m\u001b[43mself_instance\u001b[49m\u001b[38;5;241;43m=\u001b[39;49m\u001b[43m__pydantic_self__\u001b[49m\u001b[43m)\u001b[49m\n",
      "\u001b[0;31mValidationError\u001b[0m: 1 validation error for SkillsModel\nchain_of_thought\n  String should have at least 1 character [type=string_too_short, input_value='', input_type=str]\n    For further information visit https://errors.pydantic.dev/2.5/v/string_too_short"
     ]
    }
   ],
   "source": [
    "import os\n",
    "\n",
    "from openai import OpenAI\n",
    "import pandas as pd\n",
    "import instructor\n",
    "from pydantic import BaseModel, Field\n",
    "from dotenv import load_dotenv\n",
    "\n",
    "\n",
    "class SkillsModel(BaseModel):\n",
    "    \"\"\"\n",
    "    SkillsModel: Lists the required/essential and preferred/desired skills that are specified in the job posting.\n",
    "    - 'required_skills': List the non-negociable skills needed to perform the job.\n",
    "    - 'preferred_skills': List the additional beneficial but not essential skills.\n",
    "    - Focus only on specific technical skills and tools; exclude degrees and general experience.\n",
    "    \"\"\"\n",
    "\n",
    "    chain_of_thought: str = Field(\n",
    "        min_length=1,\n",
    "        description=\"Provide a detailed explanation or reasoning that outlines why certain skills are required or preferred for this job role. This should include context and justification for the selection of these skills.\",\n",
    "    )\n",
    "    required_skills: list[str] = Field(\n",
    "        description=\"Using the explicit statements, state the required technical skills, tools, and software libraries for the role.\",\n",
    "        examples=[\n",
    "            [\"XGBoost\", \"Hugging Face\", \"PyTorch\", \"SQL\"],\n",
    "            [\"Not specified\"],\n",
    "        ],\n",
    "    )\n",
    "    preferred_skills: list[str] = Field(\n",
    "        description=\"Using the explicit statements, state the Preferred/Desired technical skills, tools, and software libraries.\",\n",
    "        examples=[\n",
    "            [\"NLP\", \"Customer Success Engineer\", \"Kubernetes\"],\n",
    "            [\"Not specified\"],\n",
    "        ],\n",
    "    )\n",
    "\n",
    "\n",
    "job = SkillsModel(chain_of_thought=\"\", required_skills=[], preferred_skills=[])\n"
   ]
  }
 ],
 "metadata": {
  "kernelspec": {
   "display_name": "env",
   "language": "python",
   "name": "python3"
  },
  "language_info": {
   "codemirror_mode": {
    "name": "ipython",
    "version": 3
   },
   "file_extension": ".py",
   "mimetype": "text/x-python",
   "name": "python",
   "nbconvert_exporter": "python",
   "pygments_lexer": "ipython3",
   "version": "3.11.7"
  }
 },
 "nbformat": 4,
 "nbformat_minor": 2
}
