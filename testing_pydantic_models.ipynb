{
 "cells": [
  {
   "cell_type": "code",
   "execution_count": null,
   "metadata": {},
   "outputs": [],
   "source": [
    "import os\n",
    "\n",
    "from openai import OpenAI\n",
    "import pandas as pd\n",
    "import instructor\n",
    "from pydantic import BaseModel, Field\n",
    "from dotenv import load_dotenv\n",
    "\n",
    "\n",
    "class SkillsModel(BaseModel):\n",
    "    \"\"\"\n",
    "    SkillsModel: Lists the required/essential and preferred/desired skills that are specified in the job posting.\n",
    "    - 'required_skills': List the non-negociable skills needed to perform the job.\n",
    "    - 'preferred_skills': List the additional beneficial but not essential skills.\n",
    "    - Focus only on specific technical skills and tools; exclude degrees and general experience.\n",
    "    \"\"\"\n",
    "\n",
    "    chain_of_thought: str = Field(\n",
    "        min_length=1,\n",
    "        description=\"Provide a detailed explanation or reasoning that outlines why certain skills are required or preferred for this job role. This should include context and justification for the selection of these skills.\",\n",
    "    )\n",
    "    required_skills: list[str] = Field(\n",
    "        description=\"Using the explicit statements, state the required technical skills, tools, and software libraries for the role.\",\n",
    "        examples=[\n",
    "            [\"XGBoost\", \"Hugging Face\", \"PyTorch\", \"SQL\"],\n",
    "            [\"Not specified\"],\n",
    "        ],\n",
    "    )\n",
    "    preferred_skills: list[str] = Field(\n",
    "        description=\"Using the explicit statements, state the Preferred/Desired technical skills, tools, and software libraries.\",\n",
    "        examples=[\n",
    "            [\"NLP\", \"Customer Success Engineer\", \"Kubernetes\"],\n",
    "            [\"Not specified\"],\n",
    "        ],\n",
    "    )\n",
    "\n",
    "\n",
    "job = SkillsModel(chain_of_thought=\"\", required_skills=[], preferred_skills=[])\n"
   ]
  }
 ],
 "metadata": {
  "kernelspec": {
   "display_name": "env",
   "language": "python",
   "name": "python3"
  },
  "language_info": {
   "codemirror_mode": {
    "name": "ipython",
    "version": 3
   },
   "file_extension": ".py",
   "mimetype": "text/x-python",
   "name": "python",
   "nbconvert_exporter": "python",
   "pygments_lexer": "ipython3",
   "version": "3.11.8"
  }
 },
 "nbformat": 4,
 "nbformat_minor": 2
}
