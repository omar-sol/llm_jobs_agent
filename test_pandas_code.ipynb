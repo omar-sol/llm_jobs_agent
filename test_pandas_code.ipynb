{
 "cells": [
  {
   "cell_type": "code",
   "execution_count": null,
   "metadata": {},
   "outputs": [],
   "source": [
    "import pandas as pd\n",
    "import numpy as np\n",
    "# Load the dataframe\n",
    "df = pd.read_pickle('data/extracted_cleaned_df.pkl')\n",
    "llm_related_jobs = df[df['job_listing_text'].str.contains('fine-tuning', case=False, na=False) & df['job_listing_text'].str.contains('llms|large language models', case=False, na=False)]\n",
    "print(llm_related_jobs)"
   ]
  }
 ],
 "metadata": {
  "kernelspec": {
   "display_name": "env",
   "language": "python",
   "name": "python3"
  },
  "language_info": {
   "codemirror_mode": {
    "name": "ipython",
    "version": 3
   },
   "file_extension": ".py",
   "mimetype": "text/x-python",
   "name": "python",
   "nbconvert_exporter": "python",
   "pygments_lexer": "ipython3",
   "version": "3.11.7"
  }
 },
 "nbformat": 4,
 "nbformat_minor": 2
}
